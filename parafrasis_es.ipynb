{
  "cells": [
    {
      "cell_type": "markdown",
      "metadata": {
        "colab_type": "text",
        "id": "view-in-github"
      },
      "source": [
        "<a href=\"https://colab.research.google.com/github/LuciaMartinezGavier/compromiso-social-estudiantil/blob/main/parafrasis_es.ipynb\" target=\"_parent\"><img src=\"https://colab.research.google.com/assets/colab-badge.svg\" alt=\"Open In Colab\"/></a>"
      ]
    },
    {
      "cell_type": "markdown",
      "metadata": {
        "id": "7_t4eIxnLKu3"
      },
      "source": [
        "# Generación de paráfrasis en español\n"
      ]
    },
    {
      "cell_type": "markdown",
      "metadata": {
        "id": "aBd78O5Blu2s"
      },
      "source": [
        "Elegir insecto\n",
        "Opciones: babosa, oruga, hormigas, babositas"
      ]
    },
    {
      "cell_type": "code",
      "execution_count": 1,
      "metadata": {
        "id": "dHJufQr-lkGi"
      },
      "outputs": [],
      "source": [
        "bug = 'oruga'"
      ]
    },
    {
      "cell_type": "markdown",
      "metadata": {
        "id": "AUJkEeaULdfX"
      },
      "source": [
        "Obtener los textos que se desean parafrasear"
      ]
    },
    {
      "cell_type": "code",
      "execution_count": 2,
      "metadata": {
        "id": "UfgolecZwXTy"
      },
      "outputs": [],
      "source": [
        "import requests\n",
        "\n",
        "# url tiene el link a la descarga de un json con todos los párrafos\n",
        "urls = {\n",
        "  'babosa':   'https://drive.google.com/uc?export=download&id=1_0DHmdMzrr_0RCbc1-zxMsUNHZ_yTG4X',\n",
        "  'oruga':    'https://drive.google.com/uc?export=download&id=1UBRHkv7s39ju6fmthJ7lSfQ41Fy6MF8C',\n",
        "  'hormiga':  'https://drive.google.com/uc?export=download&id=1U63xv_DPTb4FAI9XKiJ9ly6au7FQhNKm',\n",
        "  'babosita': 'https://drive.google.com/uc?export=download&id=1RzIe2ejobaGxN3m-nrA6p4hyLqdQxjI1'\n",
        "}\n",
        "\n",
        "try:\n",
        "  bug = requests.get(urls[bug]).json()\n",
        "except:\n",
        "  print(\"An error ocurred\")\n"
      ]
    },
    {
      "cell_type": "markdown",
      "metadata": {
        "id": "u_xTrGAnVkjv"
      },
      "source": [
        "Utilizar modelo para hacer paráfrasis"
      ]
    },
    {
      "cell_type": "code",
      "execution_count": 3,
      "metadata": {
        "id": "IztFgwmjucYd"
      },
      "outputs": [
        {
          "name": "stdout",
          "output_type": "stream",
          "text": [
            "Requirement already satisfied: transformers==4.10.2 in /usr/local/lib/python3.8/dist-packages (4.10.2)\n",
            "Requirement already satisfied: requests in /usr/lib/python3/dist-packages (from transformers==4.10.2) (2.22.0)\n",
            "Requirement already satisfied: tqdm>=4.27 in /usr/local/lib/python3.8/dist-packages (from transformers==4.10.2) (4.64.0)\n",
            "Requirement already satisfied: pyyaml>=5.1 in /usr/lib/python3/dist-packages (from transformers==4.10.2) (5.3.1)\n",
            "Requirement already satisfied: numpy>=1.17 in /home/lucia/.local/lib/python3.8/site-packages (from transformers==4.10.2) (1.22.3)\n",
            "Requirement already satisfied: tokenizers<0.11,>=0.10.1 in /usr/local/lib/python3.8/dist-packages (from transformers==4.10.2) (0.10.3)\n",
            "Requirement already satisfied: sacremoses in /usr/local/lib/python3.8/dist-packages (from transformers==4.10.2) (0.0.53)\n",
            "Requirement already satisfied: packaging in /home/lucia/.local/lib/python3.8/site-packages (from transformers==4.10.2) (21.3)\n",
            "Requirement already satisfied: filelock in /usr/local/lib/python3.8/dist-packages (from transformers==4.10.2) (3.8.0)\n",
            "Requirement already satisfied: huggingface-hub>=0.0.12 in /usr/local/lib/python3.8/dist-packages (from transformers==4.10.2) (0.9.1)\n",
            "Requirement already satisfied: regex!=2019.12.17 in /usr/local/lib/python3.8/dist-packages (from transformers==4.10.2) (2022.8.17)\n",
            "Requirement already satisfied: joblib in /usr/local/lib/python3.8/dist-packages (from sacremoses->transformers==4.10.2) (1.1.0)\n",
            "Requirement already satisfied: six in /usr/lib/python3/dist-packages (from sacremoses->transformers==4.10.2) (1.14.0)\n",
            "Requirement already satisfied: click in /usr/lib/python3/dist-packages (from sacremoses->transformers==4.10.2) (7.0)\n",
            "Requirement already satisfied: pyparsing!=3.0.5,>=2.0.2 in /home/lucia/.local/lib/python3.8/site-packages (from packaging->transformers==4.10.2) (3.0.9)\n",
            "Requirement already satisfied: typing-extensions>=3.7.4.3 in /usr/local/lib/python3.8/dist-packages (from huggingface-hub>=0.0.12->transformers==4.10.2) (4.3.0)\n",
            "Requirement already satisfied: sentencepiece==0.1.96 in /home/lucia/.local/lib/python3.8/site-packages (0.1.96)\n"
          ]
        }
      ],
      "source": [
        "!pip install transformers==4.10.2\n",
        "!pip install sentencepiece==0.1.96"
      ]
    },
    {
      "cell_type": "code",
      "execution_count": 4,
      "metadata": {
        "id": "O-oWCDW5H1fN"
      },
      "outputs": [
        {
          "name": "stderr",
          "output_type": "stream",
          "text": [
            "/usr/local/lib/python3.8/dist-packages/tqdm/auto.py:22: TqdmWarning: IProgress not found. Please update jupyter and ipywidgets. See https://ipywidgets.readthedocs.io/en/stable/user_install.html\n",
            "  from .autonotebook import tqdm as notebook_tqdm\n",
            "The following encoder weights were not tied to the decoder ['bert/pooler']\n",
            "The following encoder weights were not tied to the decoder ['bert/pooler']\n"
          ]
        },
        {
          "name": "stdout",
          "output_type": "stream",
          "text": [
            "device  cpu\n"
          ]
        }
      ],
      "source": [
        "# importar modelo de paráfrasis\n",
        "from transformers import AutoTokenizer, AutoModelForSeq2SeqLM\n",
        "\n",
        "tokenizer = AutoTokenizer.from_pretrained(\"mrm8488/bert2bert_shared-spanish-finetuned-paus-x-paraphrasing\")\n",
        "model = AutoModelForSeq2SeqLM.from_pretrained(\"mrm8488/bert2bert_shared-spanish-finetuned-paus-x-paraphrasing\")\n",
        "import torch\n",
        "\n",
        "\n",
        "device = torch.device(\"cuda\" if torch.cuda.is_available() else \"cpu\")\n",
        "model = model.to(device)\n",
        "print(\"device \", device)"
      ]
    },
    {
      "cell_type": "code",
      "execution_count": 5,
      "metadata": {
        "id": "9t1u0c7uwpPT"
      },
      "outputs": [],
      "source": [
        "from copy import deepcopy\n",
        "parafrasis = deepcopy(bug)\n",
        "\n",
        "for topic in bug:\n",
        "  for paragraph in bug[topic]:\n",
        "    context = paragraph\n",
        "    device = torch.device(\"cuda\" if torch.cuda.is_available() else \"cpu\")\n",
        "    model = model.to(device)\n",
        "    text = context + \" </s>\"\n",
        "\n",
        "    encoding = tokenizer.encode_plus(\n",
        "        text,\n",
        "        max_length = 500,\n",
        "        padding=True,\n",
        "        return_tensors = \"pt\"\n",
        "    )\n",
        "\n",
        "    input_ids = encoding[\"input_ids\"].to(device)\n",
        "    attention_mask = encoding[\"attention_mask\"].to(device)\n",
        "\n",
        "    model.eval()\n",
        "    beam_outputs = model.generate(\n",
        "        input_ids=input_ids,\n",
        "        attention_mask=attention_mask,\n",
        "        max_length=500,\n",
        "        early_stopping=True,\n",
        "        num_beams=15,\n",
        "        num_return_sequences=3,\n",
        "    )\n",
        "\n",
        "    for beam_output in beam_outputs:\n",
        "        sent = tokenizer.decode(beam_output, skip_special_tokens = True,\n",
        "                                clean_up_tokenization_spaces = True)\n",
        "        parafrasis[topic].append(sent)\n"
      ]
    },
    {
      "cell_type": "code",
      "execution_count": 6,
      "metadata": {
        "id": "7DBJD8lK-Zqb"
      },
      "outputs": [
        {
          "name": "stdout",
          "output_type": "stream",
          "text": [
            "Las orugas son larvas de mariposas y polillas. Que se alimentan de hojas, flores, tallos, frutos o raíces. La oruga 'cogollero del maíz' u 'oruga militar  del sur' es las que suele encontrarse en invernaderos, jardines y huertas.\n",
            "Las orugas son larvas de mariposas y polillas.  Algunas pueden ser plagas importantes para la agricultura, y atacan principalmente al maíz, la soja, el algodón, la alfalfa, el tomate, el lino, la papa y el sorgo.\n",
            "Las orugas son larvas de mariposas y polillas y representan un problema para las pequeñas huertas y jardines de las casas donde atacan distintas especies de plantas, entre ellas el trébol y los lupinos.\n",
            "Las orugas son larvas de mariposas y polillas que se alimentan de hojas, flores, tallos, Fructuos, insectos o raíces, la oruga cogollero del sur u las huertas son las que suelen ser nidos.\n",
            "Las orugas son larvas de mariposas y polillas que se alimentan de hojas, flores, tallos, Fruugas, insectos o raíces, la oruga cogollero del sur u las huertas son las que suelen ser nidos.\n",
            "Las orugas son larvas de mariposas y polillas que se alimentan de hojas, flores, tallos, Fructuos, insectos o raíces, la oruga cogollero del sur u las huertas son la que suelen ser nidos.\n",
            "Las orugas son larvas de mariposas y polillas, algunas pueden ser plagas importantes para la agricultura, y atacan principalmente al maíz, la pelota, el algodón, la papa y el Sorgo.\n",
            "Las orugas son larvas de mariposas y polillas, algunas pueden ser plagas importantes para la agricultura, y atacan principalmente al maíz, la maíz, el algodón, la papa y el Sorgo.\n",
            "Las orugas son larvas de mariposas y polillas, algunas pueden ser plagas importantes para la agricultura, y atacan principalmente al maíz, lataza, el algodón, la papa y el Sorgo.\n",
            "Las orugas son larvas de mariposas y polillas, y representan un problema para las pequeñas huertas y jardín de las casas donde atacan diversas especies de plantas, entre ellas el trébol y los lupinos.\n",
            "Las orugas son larvas de mariposas y polillas, y representan un problema para las pequeñas huertas y jardín de las casas donde atacan diversas especies de plantas, entre ellas el trébol y las lupinos.\n",
            "Las orugas son larvas de mariposas y polillas, y representan un problema para las pequeñas huertas y jardín de plantas donde atacan diversas especies de plantas, entre ellas el trébol y los lupinos.\n",
            "-------------------------\n",
            "Las orugas poseen una estructura blanda y cilíndrica, excepto la cabeza. La cabeza suele ser una cápsula resistente y dura, en la que se insertan dos potentes mandíbulas en forma de cuchara con el borde dentado.\n",
            "El cuerpo de la oruga se encuentra dividido en una serie de segmentos, los cuales presentan tres pares de patas más varios pares de falsas partas que usan para caminar y agarrarse.\n",
            "Algunas especies de orugas suelen exhibir en su cuerpo una variedad de colores o espinas que usan para anunciar su toxicidad o desagradable sabor como mecanismo de defensa ante predadores.\n",
            "Las orugas tienen una estructura blanda y cilíndrica, excepto la cabeza, la cabeza suele ser una cápsula resistente y dura, en la que se insertan dos poderosas mandíbulas en forma de cuchara.\n",
            "Las orugas poseen una estructura blanda y cilíndrica, excepto la cabeza, la cabeza suele ser una cápsula resistente y dura, en la que se insertan dos poderosas mandíbulas en forma de cuchara.\n",
            "Las orugas tienen una estructura blanda y cilíndrica, excepto la cabeza, la cabeza suele ser un cápsula resistente y dura, en la que se insertan dos poderosas mandíbulas en forma de cuchara.\n",
            "El cuerpo de la oruga se divide en una serie de segmentos, los cuales tienen tres pares de patas más diferentes que son piernas de falsas partas que usan para caminar ygersse.\n",
            "El cuerpo de las oruga se divide en una serie de segmentos, los cuales tienen tres pares de patas más diferentes que son piernas de falsas partas que usan para caminar ygersse.\n",
            "El cuerpo de la oruga se divide en una serie de segmentos, los cuales tienen tres pares de patas más diferentes que son pantalones de falsas partas que usan para caminar ygersse.\n",
            "Algunas especies de poliugas suelen presentar una variedad de colores o espinas que utilizan para anunciar su toxicidad o desagradable sabor como mecanismo de defensa contra predadores. Como mecanismo de predadores : alimentación\n",
            "Algunas especies de orugas suelen presentar una variedad de colores o espinas que utilizan para anunciar su toxicidad o desagradable sabor como mecanismo de defensa contra predadores. Como mecanismo de predadores : alimentación\n",
            "Algunas especies de las orugas suelen presentar una variedad de colores o espinas que utilizan para anunciar su toxicidad o desagradable sabor como mecanismo de defensa contra predadores. comics :\n",
            "-------------------------\n",
            "Hay aproximadamente 30 especies de orugas que se distribuyen a lo largo de seis continentes. En América se encuentra en varios países desde Argentina y Chile hasta el sur de Estados Unidos.\n",
            "Hay aproximadamente 30 especies de poliugas que se distribuyen a lo largo de seis continente. En América se encuentra en varios países desde Argentina y Chile hasta el sur de los Estados Unidos.\n",
            "Hay aproximadamente 30 especies de orugas que se distribuyen a lo largo de seis continente. En América se encuentra en varios países desde Argentina y Chile hasta el sur de los Estados Unidos.\n",
            "Hay aproximadamente 30 especies de poliugas que se distribuyen a lo largo de seis continente. En América se encuentra en varios países desde Argentina y Chile hasta el sur de Estados Unidos.\n",
            "-------------------------\n",
            "La mayoría de las especies de orugas son completamente inofensivas para tocar. Sin embargo, otras orugas que poseen pelos o espinas pueden irritar y dañar la piel. Si usted no está seguro de qué oruga se trata, se aconseja evitar el contacto directo.\n",
            "La mayoría de las especies de poliugas son completamente inofensivas para tocar, pero otras orugas que tienen pelos o espinas pueden irritar y dañar la piel. Se aconseja evitar el contacto directo.\n",
            "La mayoría de las especies de las poliugas son completamente inofensivas para tocar, pero otras orugas que tienen pelos o espinas pueden irritar y dañar la piel. Se aconseja evitar el contacto directo.\n",
            "La mayoría de las especies de poliugas son completamente inofensivas para tocar, pero otras orugas que poseen pelos o espinas pueden irritar y dañar la piel. Se aconseja evitar el contacto directo.\n",
            "-------------------------\n",
            "El periodo crítico para el control es cuando las plantas aún son muy jóvenes o cuando generan brotes nuevos, ya que las plantas están más vulnerables. Es importante centrarse en destruir los huevos u orugas en sus primeros estadios, preferentemente con productos naturales.\n",
            "Un modo de controlar a las orugas y a los huevos, es mediante el uso de tierra Diatomea, la cual debe espolvorearse sobre las plantas una vez por semana. La oruga muere al ingerirla y a la vez deshidrata a los huevos.\n",
            "Un modo de controlar a las orugas y a los huevos, es mediante el uso de una infusión de ajenjo o ajenco. Se realiza el té y debe dejarse reposar por 24 horas. Luego se coloca el té en un aspersor y se rocía la planta a tratar.\n",
            "Una opción para disminuir el número de mariposas nocturnas, es colocar a la noche una luz con un panel de plástico donde las mariposas choquen al ser atraídas hacia la luz. Debajo del panel, debe colocarse una fuente con agua y detergente.\n",
            "Los enemigos naturales de las orugas en sus primeros estadios son las aves, avispas, moscas parasitoides, escarabajos, arañas u hormigas.\n",
            "El período crítico para el control es cuando las plantas aún son muy jóvenes o cuando generan brotes nuevos, es importante centrarse en destruir los huevos u orugas en sus primeros estadios, principalmente con productos naturales.\n",
            "El período crítico para el control es cuando las plantas todavía son muy jóvenes o cuando generan brotes nuevos, es importante centrarse en destruir los huevos u orugas en sus primeros estadios, principalmente con productos naturales.\n",
            "El período crítico para el control es cuando las plantas aún son muy jóvenes o cuando generan brotes nuevos, es importante centrarse en destruir los huevos u orugas en sus primeros estadios, preferentemente con productos naturales.\n",
            "Un modo de controlar a las orugas y a los huevos es controlar el uso de tierra Diatomea, la cual debe espolvorearse una vez al mes y la oruga muere al largo de las plantas.\n",
            "Un modo de controlar a las orugas y a los huevos es controlar el uso de tierra Diatomea, la cual debe espolvorearse en las plantas una vez al mes y la oruga muere al largo de la flor.\n",
            "Un modo de controlar a las orugas y a los huevos es controlar el uso de tierra Diatomea, la cual debe espolvorearse durante una vez al mes y la oruga muere al largo de las plantas.\n",
            "Un modo de controlar a las orugas y a los huevos es controlar el uso de una infusión de henjo o solo si se colocan en un té y se le coloca la planta a tratar de 24 horas.\n",
            "Un modo de controlar a las orugas y a los huevos es controlar el uso de una infusión de henjo o solo si se colocan en un té y se le coloca la planta a tratar de 12 horas.\n",
            "Un modo de controlar a las orugas y a los huevos es controlar el uso de una infusión de henjo o solo si se colocan en un té y se le coloca la planta para tratar de 24 horas.\n",
            "Una opción para disminuir el número de mariposas nocturnas es colocar una luz con un panel de plástico donde las mariposas Chonte golpean al ser atraídas hacia la luz, Debajo del panel.\n",
            "Una opción para disminuir el número de mariposas nocturnas es colocar una luz con un panel de plástico donde las mariposas Chon al ser atraídas hacia la luz, Debajo del panel, es una fuente con agua y codorgente.\n",
            "Una opción para disminuir el número de mariposas nocturnas es colocar una luz con un panel de plástico donde las mariposas Chonte golpean al ser atraído hacia la luz, Debajo del panel.\n",
            "Los enemigos naturales de las orugas en sus primeros estadios son las aves, avispas, moscas parasitoides, escarabajos, arañas u hormigas.\n",
            "Los enemigos naturales de las orugas son las aves, agudas, avispas, moscas parasitoides, escarabajos, insectos, arañas uónimas.\n",
            "Los enemigos naturales de las orugas son las aves, agudas, avispas, moscas parasitoides, escarabajos, insectos, arañas u hormigas.\n",
            "-------------------------\n"
          ]
        }
      ],
      "source": [
        "for topic in parafrasis:\n",
        "  for j in parafrasis[topic]:\n",
        "    print(j)\n",
        "  print(\"-------------------------\")"
      ]
    },
    {
      "cell_type": "markdown",
      "metadata": {
        "id": "TvozoxEkVuUX"
      },
      "source": [
        "Generar textos usando los párrafos creados. Un párrafo por tema."
      ]
    },
    {
      "cell_type": "code",
      "execution_count": 8,
      "metadata": {
        "id": "2mlHFpm2VtS-"
      },
      "outputs": [
        {
          "name": "stdout",
          "output_type": "stream",
          "text": [
            "Las orugas son larvas de mariposas y polillas. Que se alimentan de hojas, flores, tallos, frutos o raíces. La oruga 'cogollero del maíz' u 'oruga militar  del sur' es las que suele encontrarse en invernaderos, jardines y huertas.\n",
            "El cuerpo de la oruga se encuentra dividido en una serie de segmentos, los cuales presentan tres pares de patas más varios pares de falsas partas que usan para caminar y agarrarse.\n",
            "Hay aproximadamente 30 especies de orugas que se distribuyen a lo largo de seis continentes. En América se encuentra en varios países desde Argentina y Chile hasta el sur de Estados Unidos.\n",
            "La mayoría de las especies de orugas son completamente inofensivas para tocar. Sin embargo, otras orugas que poseen pelos o espinas pueden irritar y dañar la piel. Si usted no está seguro de qué oruga se trata, se aconseja evitar el contacto directo.\n",
            "El periodo crítico para el control es cuando las plantas aún son muy jóvenes o cuando generan brotes nuevos, ya que las plantas están más vulnerables. Es importante centrarse en destruir los huevos u orugas en sus primeros estadios, preferentemente con productos naturales.\n",
            "\n",
            "\n",
            "Las orugas son larvas de mariposas y polillas. Que se alimentan de hojas, flores, tallos, frutos o raíces. La oruga 'cogollero del maíz' u 'oruga militar  del sur' es las que suele encontrarse en invernaderos, jardines y huertas.\n",
            "El cuerpo de la oruga se encuentra dividido en una serie de segmentos, los cuales presentan tres pares de patas más varios pares de falsas partas que usan para caminar y agarrarse.\n",
            "Hay aproximadamente 30 especies de orugas que se distribuyen a lo largo de seis continentes. En América se encuentra en varios países desde Argentina y Chile hasta el sur de Estados Unidos.\n",
            "La mayoría de las especies de orugas son completamente inofensivas para tocar. Sin embargo, otras orugas que poseen pelos o espinas pueden irritar y dañar la piel. Si usted no está seguro de qué oruga se trata, se aconseja evitar el contacto directo.\n",
            "Un modo de controlar a las orugas y a los huevos, es mediante el uso de tierra Diatomea, la cual debe espolvorearse sobre las plantas una vez por semana. La oruga muere al ingerirla y a la vez deshidrata a los huevos.\n",
            "\n",
            "\n",
            "Las orugas son larvas de mariposas y polillas. Que se alimentan de hojas, flores, tallos, frutos o raíces. La oruga 'cogollero del maíz' u 'oruga militar  del sur' es las que suele encontrarse en invernaderos, jardines y huertas.\n",
            "Las orugas poseen una estructura blanda y cilíndrica, excepto la cabeza. La cabeza suele ser una cápsula resistente y dura, en la que se insertan dos potentes mandíbulas en forma de cuchara con el borde dentado.\n",
            "Hay aproximadamente 30 especies de orugas que se distribuyen a lo largo de seis continentes. En América se encuentra en varios países desde Argentina y Chile hasta el sur de Estados Unidos.\n",
            "La mayoría de las especies de orugas son completamente inofensivas para tocar. Sin embargo, otras orugas que poseen pelos o espinas pueden irritar y dañar la piel. Si usted no está seguro de qué oruga se trata, se aconseja evitar el contacto directo.\n",
            "Los enemigos naturales de las orugas en sus primeros estadios son las aves, avispas, moscas parasitoides, escarabajos, arañas u hormigas.\n",
            "\n",
            "\n",
            "Las orugas son larvas de mariposas y polillas y representan un problema para las pequeñas huertas y jardines de las casas donde atacan distintas especies de plantas, entre ellas el trébol y los lupinos.\n",
            "Las orugas poseen una estructura blanda y cilíndrica, excepto la cabeza. La cabeza suele ser una cápsula resistente y dura, en la que se insertan dos potentes mandíbulas en forma de cuchara con el borde dentado.\n",
            "Hay aproximadamente 30 especies de orugas que se distribuyen a lo largo de seis continentes. En América se encuentra en varios países desde Argentina y Chile hasta el sur de Estados Unidos.\n",
            "La mayoría de las especies de orugas son completamente inofensivas para tocar. Sin embargo, otras orugas que poseen pelos o espinas pueden irritar y dañar la piel. Si usted no está seguro de qué oruga se trata, se aconseja evitar el contacto directo.\n",
            "El periodo crítico para el control es cuando las plantas aún son muy jóvenes o cuando generan brotes nuevos, ya que las plantas están más vulnerables. Es importante centrarse en destruir los huevos u orugas en sus primeros estadios, preferentemente con productos naturales.\n",
            "\n",
            "\n"
          ]
        }
      ],
      "source": [
        "from itertools import product\n",
        "# combinar paráfrasis\n",
        "#final_text = [t1 +\"\\n\" + t2 +\"\\n\" + t3 +\"\\n\"+ t4 +\"\\n\" + t5 for t1, t2, t3, t4, t5 in product(parafrasis[\"que\"], parafrasis[\"como\"], parafrasis[\"habitat\"], parafrasis[\"daño\"], parafrasis[\"prevencion\"])]\n",
        "\n",
        "# combinar párrafos madre\n",
        "final_text = [\n",
        "    t1 + \"\\n\" + t2 + \"\\n\" + t3 + \"\\n\"+ t4 + \"\\n\" + t5\n",
        "    for t1, t2, t3, t4, t5 in product(bug[\"que\"], bug[\"como\"], bug[\"habitat\"],\n",
        "                                      bug[\"daño\"], bug[\"prevencion\"])\n",
        "]\n",
        "\n",
        "import random\n",
        "for i in range(4):\n",
        "  num = random.randint(0, len(final_text)-1)\n",
        "  print(final_text[num] + \"\\n\\n\")"
      ]
    }
  ],
  "metadata": {
    "accelerator": "GPU",
    "colab": {
      "authorship_tag": "ABX9TyNmQgSZe3Zk2HytevxGDlXf",
      "collapsed_sections": [],
      "include_colab_link": true,
      "provenance": []
    },
    "kernelspec": {
      "display_name": "Python 3.8.10 64-bit",
      "language": "python",
      "name": "python3"
    },
    "language_info": {
      "codemirror_mode": {
        "name": "ipython",
        "version": 3
      },
      "file_extension": ".py",
      "mimetype": "text/x-python",
      "name": "python",
      "nbconvert_exporter": "python",
      "pygments_lexer": "ipython3",
      "version": "3.8.10"
    },
    "vscode": {
      "interpreter": {
        "hash": "916dbcbb3f70747c44a77c7bcd40155683ae19c65e1c03b4aa3499c5328201f1"
      }
    }
  },
  "nbformat": 4,
  "nbformat_minor": 0
}
