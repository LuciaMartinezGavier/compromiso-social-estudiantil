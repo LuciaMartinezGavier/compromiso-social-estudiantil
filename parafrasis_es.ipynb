{
  "cells": [
    {
      "cell_type": "markdown",
      "metadata": {
        "colab_type": "text",
        "id": "view-in-github"
      },
      "source": [
        "<a href=\"https://colab.research.google.com/github/LuciaMartinezGavier/compromiso-social-estudiantil/blob/main/parafrasis_es.ipynb\" target=\"_parent\"><img src=\"https://colab.research.google.com/assets/colab-badge.svg\" alt=\"Open In Colab\"/></a>"
      ]
    },
    {
      "cell_type": "markdown",
      "metadata": {
        "id": "7_t4eIxnLKu3"
      },
      "source": [
        "# Generación de paráfrasis en español\n"
      ]
    },
    {
      "cell_type": "markdown",
      "metadata": {
        "id": "aBd78O5Blu2s"
      },
      "source": [
        "Elegir insecto\n",
        "Opciones: babosa, oruga, hormigas, babositas"
      ]
    },
    {
      "cell_type": "code",
      "execution_count": 1,
      "metadata": {
        "id": "dHJufQr-lkGi"
      },
      "outputs": [],
      "source": [
        "bug = 'hormiga'"
      ]
    },
    {
      "cell_type": "markdown",
      "metadata": {
        "id": "AUJkEeaULdfX"
      },
      "source": [
        "Obtener los textos que se desean parafrasear"
      ]
    },
    {
      "cell_type": "code",
      "execution_count": 2,
      "metadata": {
        "id": "UfgolecZwXTy"
      },
      "outputs": [],
      "source": [
        "import requests\n",
        "\n",
        "# url tiene el link a la descarga de un json con todos los párrafos\n",
        "urls = {\n",
        "  'babosa':   'https://drive.google.com/uc?export=download&id=1_0DHmdMzrr_0RCbc1-zxMsUNHZ_yTG4X',\n",
        "  'oruga':    'https://drive.google.com/uc?export=download&id=1UBRHkv7s39ju6fmthJ7lSfQ41Fy6MF8C',\n",
        "  'hormiga':  'https://drive.google.com/uc?export=download&id=1U63xv_DPTb4FAI9XKiJ9ly6au7FQhNKm',\n",
        "  'babosita': 'https://drive.google.com/uc?export=download&id=1RzIe2ejobaGxN3m-nrA6p4hyLqdQxjI1'\n",
        "}\n",
        "\n",
        "try:\n",
        "  bug = requests.get(urls[bug]).json()\n",
        "except:\n",
        "  print(\"An error ocurred\")\n"
      ]
    },
    {
      "cell_type": "markdown",
      "metadata": {
        "id": "u_xTrGAnVkjv"
      },
      "source": [
        "Utilizar modelo para hacer paráfrasis"
      ]
    },
    {
      "cell_type": "code",
      "execution_count": 3,
      "metadata": {
        "id": "IztFgwmjucYd"
      },
      "outputs": [
        {
          "name": "stdout",
          "output_type": "stream",
          "text": [
            "Requirement already satisfied: transformers==4.10.2 in /usr/local/lib/python3.8/dist-packages (4.10.2)\n",
            "Requirement already satisfied: tqdm>=4.27 in /usr/local/lib/python3.8/dist-packages (from transformers==4.10.2) (4.64.0)\n",
            "Requirement already satisfied: sacremoses in /usr/local/lib/python3.8/dist-packages (from transformers==4.10.2) (0.0.53)\n",
            "Requirement already satisfied: tokenizers<0.11,>=0.10.1 in /usr/local/lib/python3.8/dist-packages (from transformers==4.10.2) (0.10.3)\n",
            "Requirement already satisfied: filelock in /usr/local/lib/python3.8/dist-packages (from transformers==4.10.2) (3.8.0)\n",
            "Requirement already satisfied: huggingface-hub>=0.0.12 in /usr/local/lib/python3.8/dist-packages (from transformers==4.10.2) (0.9.1)\n",
            "Requirement already satisfied: packaging in /home/lucia/.local/lib/python3.8/site-packages (from transformers==4.10.2) (21.3)\n",
            "Requirement already satisfied: pyyaml>=5.1 in /usr/lib/python3/dist-packages (from transformers==4.10.2) (5.3.1)\n",
            "Requirement already satisfied: regex!=2019.12.17 in /usr/local/lib/python3.8/dist-packages (from transformers==4.10.2) (2022.8.17)\n",
            "Requirement already satisfied: requests in /usr/lib/python3/dist-packages (from transformers==4.10.2) (2.22.0)\n",
            "Requirement already satisfied: numpy>=1.17 in /home/lucia/.local/lib/python3.8/site-packages (from transformers==4.10.2) (1.22.3)\n",
            "Requirement already satisfied: six in /usr/lib/python3/dist-packages (from sacremoses->transformers==4.10.2) (1.14.0)\n",
            "Requirement already satisfied: joblib in /usr/local/lib/python3.8/dist-packages (from sacremoses->transformers==4.10.2) (1.1.0)\n",
            "Requirement already satisfied: click in /usr/lib/python3/dist-packages (from sacremoses->transformers==4.10.2) (7.0)\n",
            "Requirement already satisfied: typing-extensions>=3.7.4.3 in /usr/local/lib/python3.8/dist-packages (from huggingface-hub>=0.0.12->transformers==4.10.2) (4.3.0)\n",
            "Requirement already satisfied: pyparsing!=3.0.5,>=2.0.2 in /home/lucia/.local/lib/python3.8/site-packages (from packaging->transformers==4.10.2) (3.0.9)\n",
            "Requirement already satisfied: sentencepiece==0.1.96 in /home/lucia/.local/lib/python3.8/site-packages (0.1.96)\n"
          ]
        }
      ],
      "source": [
        "!pip install transformers==4.10.2\n",
        "!pip install sentencepiece==0.1.96"
      ]
    },
    {
      "cell_type": "code",
      "execution_count": 4,
      "metadata": {
        "id": "O-oWCDW5H1fN"
      },
      "outputs": [
        {
          "name": "stderr",
          "output_type": "stream",
          "text": [
            "/usr/local/lib/python3.8/dist-packages/tqdm/auto.py:22: TqdmWarning: IProgress not found. Please update jupyter and ipywidgets. See https://ipywidgets.readthedocs.io/en/stable/user_install.html\n",
            "  from .autonotebook import tqdm as notebook_tqdm\n",
            "The following encoder weights were not tied to the decoder ['bert/pooler']\n",
            "The following encoder weights were not tied to the decoder ['bert/pooler']\n"
          ]
        },
        {
          "name": "stdout",
          "output_type": "stream",
          "text": [
            "device  cpu\n"
          ]
        }
      ],
      "source": [
        "# importar modelo de paráfrasis\n",
        "from transformers import AutoTokenizer, AutoModelForSeq2SeqLM\n",
        "\n",
        "tokenizer = AutoTokenizer.from_pretrained(\"mrm8488/bert2bert_shared-spanish-finetuned-paus-x-paraphrasing\")\n",
        "model = AutoModelForSeq2SeqLM.from_pretrained(\"mrm8488/bert2bert_shared-spanish-finetuned-paus-x-paraphrasing\")\n",
        "import torch\n",
        "\n",
        "\n",
        "device = torch.device(\"cuda\" if torch.cuda.is_available() else \"cpu\")\n",
        "model = model.to(device)\n",
        "print(\"device \", device)"
      ]
    },
    {
      "cell_type": "code",
      "execution_count": 6,
      "metadata": {
        "id": "9t1u0c7uwpPT"
      },
      "outputs": [],
      "source": [
        "from copy import deepcopy\n",
        "parafrasis = {\"que\": [], \"como\": [], \"habitat\": [], \"daño\": [], \"prevencion\": []}\n",
        "\n",
        "for topic in bug:\n",
        "  for paragraph in bug[topic]:\n",
        "    parafrasis[topic].append(paragraph)\n",
        "    context = paragraph\n",
        "    device = torch.device(\"cuda\" if torch.cuda.is_available() else \"cpu\")\n",
        "    model = model.to(device)\n",
        "    text = context + \" </s>\"\n",
        "\n",
        "    encoding = tokenizer.encode_plus(\n",
        "        text,\n",
        "        max_length = 500,\n",
        "        padding = True,\n",
        "        return_tensors = \"pt\"\n",
        "    )\n",
        "\n",
        "    input_ids = encoding[\"input_ids\"].to(device)\n",
        "    attention_mask = encoding[\"attention_mask\"].to(device)\n",
        "\n",
        "    model.eval()\n",
        "    beam_outputs = model.generate(\n",
        "        input_ids=input_ids,\n",
        "        attention_mask=attention_mask,\n",
        "        max_length=500,\n",
        "        early_stopping=True,\n",
        "        num_beams=15,\n",
        "        num_return_sequences=3,\n",
        "    )\n",
        "\n",
        "    for beam_output in beam_outputs:\n",
        "        sent = tokenizer.decode(beam_output, skip_special_tokens = True,\n",
        "                                clean_up_tokenization_spaces = True)\n",
        "        parafrasis[topic].append(sent)\n"
      ]
    },
    {
      "cell_type": "code",
      "execution_count": 7,
      "metadata": {
        "id": "7DBJD8lK-Zqb"
      },
      "outputs": [
        {
          "name": "stdout",
          "output_type": "stream",
          "text": [
            "Las hormigas son insectos que pertenecen a un grupo llamado insectos sociales, los cuales se caracterizan por vivir en comunidades organizadas con división de tareas. El tamaño de las colonias de hormigas pueden variar desde una docena hasta varios miles de ejemplares.\n",
            "Las hormigas son insectos que depende su alimentación pueden ser nectívoras (se alimentan de soluciones azucaradas), granívoras (se alimentan de granos y semillas) y cortadoras (recolectan trozos de hojas que trasladan al nido para cultivar un hongo que sirve de alimento de adultos y larvas).\n",
            "Las hormigas son insectos, que cumplen roles importantes en los ecosistemas, entre ellos, regular el crecimiento vegetal, reciclar nutrientes, ser controladores biológicos, polinizar, remover materia orgánica...\n",
            "Las hormigas son insectos que pertenecen a un grupo llamado insectos sociales, los cuales se caracteriza por vivir en comunidades organizadas con división de tareas. El tamaño de las colonias pueden variar desde una Moisés hasta varios miles de ejemplares.\n",
            "Las hormigas son insectos que pertenecen a un grupo llamado insectos sociales, los cuales se caracteriza por vivir en comunidades organizadas con divisiones de tareas. El tamaño de las colonias pueden variar desde una Moisés hasta varios miles de ejemplares.\n",
            "Las hormigas son insectos que pertenecen a un grupo llamado insectos sociales, los cuales se caracterizan por vivir en comunidades organizadas con división de tareas. El tamaño de las colonias pueden variar desde una Moisés hasta varios miles de ejemplares.\n",
            "Las hormigas son insectos que depende de la alimentación pueden ser nectívoras ( se alimentan de soluciones azúcaradas ), grandesívoras ( alimentos dulce y semillas ) y cortadoras ( recolectan el hongo que infecta al nido para cultivar y larvas ).\n",
            "Las hormigas son insectos que depende de la alimentación pueden ser nectívoras ( se alimentan de soluciones azúcaradas ), grandesívoras ( alimentos dulce y semillas ) y cortadoras ( recolectan el hongo que infecta al nido para adultos y larvas ).\n",
            "Las hormigas son insectos que depende de su alimentación pueden ser nectívoras ( se alimentan de soluciones azúcaradas ), grandesívoras ( alimentos dulce y semillas ) y cortadoras ( recolectan el hongo que infecta al nido para cultivar y larvas ).\n",
            "Las hormigas son insectos que realizan roles importantes en los ecosistema, entre ellos : regular el crecimiento agrícola, reciclar moléculas moléculas, ser controlador biológicos, polinizar, remover materia orgánica.\n",
            "Las hormigas son insectos que realizan roles importantes en los ecosistema, entre ellos, regular el crecimiento agrícola, reciclar moléculas moléculas, ser controladores biológicos, polinizar, remover materia orgánica.\n",
            "Las hormigas son insectos que realizan roles importantes en los ecosistema, entre ellos, regular el crecimiento agrícola, reciclar moléculas moléculas, ser controlador biológicos, polinizar, remover materia orgánica.\n",
            "-------------------------\n",
            "La longitud normal de una hormiga es de 1 a 5 mm, aunque se han llegado a descubrir hormigas de hasta 30 mm (no en la región patagónica).\n",
            "Tienen cabeza grande, antenas articuladas, poderosas mandíbulas y tres regiones corporales (cabeza, tórax y abdomen). En el extremo último del abdomen de puede encontrar el aguijón.\n",
            "La longitud normal de una hormiga es de 1, 5 mm, aunque se han llegado a descubrir Lucy de hasta 30 mm ( no en la región patagónica ).\n",
            "La longitud normal de una hormiga es de 1 a 5 mm, aunque se han llegado a descubrir Lucy de hasta 30 mm ( no en la región patagónica ).\n",
            "La longitud normal de una hormiga es de 1 a 5 mm, aunque se han llegado a descubrir concreto de hasta 30 mm ( no en la región patagónica ).\n",
            "Tienen cabeza grande, antenas articuladas, poderosas mandíbulas y tres regiones corporales ( cabeza, tórax y abdomen ), en el extremo último del abdomen de puede ser la espiijón.\n",
            "Tienen una cabeza grande, antenas articuladas, poderosas mandíbulas y tres regiones corporales ( cabeza, tórax y abdomen ), en el extremo final del abdomen de puede encontrarse el Drijón.\n",
            "Tienen cabeza grande, antenas articuladas, poderosas mandíbulas y tres regiones corporales ( cabeza, tórax y abdomen ), en el extremo final del abdomen de puede ser la espiijón.\n",
            "-------------------------\n",
            "Las hormigas habitan en casi todos los ecosistemas terrestres con excepción de la Antártida. Las especies que entran a nuestras casas en busca de protección o alimento son conocidas como 'Hormigas Urbanas'.\n",
            "Las hormigas viven en nidos o colonias de tamaños variables, desde una docena hasta varios miles de individuos.\n",
            "Las hormigas habitan en casi cualquier ecosistema terrestre con excepción de la Antártida, las especies que entran a nuestra casa en busca de protección o alimentos son conocidas como Hormigas Urbanas.\n",
            "Las hormigas habitan en casi cualquier ecosistema terrestre con excepción de la Antártida, las especies que entran a nuestra casa en busca de protección o alimentos son conocidas como \" Hormigas Urbanas \".\n",
            "Las hormigas habitan en casi todos los ecosistema terrestres con excepción de la Antártida, las especies que entran a nuestra casa en busca de protección o alimentos son conocidas como \" Hormigas Urbanas \".\n",
            "Las hormigas viven en nidos o colonias de tamaños variables, desde una Apple hasta varios miles de individuos, ej.\n",
            "Las hormigas viven en nidos o colonias de tamaños variables, desde una Apple a varios miles de individuos, ej.\n",
            "Las hormigas viven en nidos o colonias de tamaños variables, desde una Apple hasta varios miles de individuos. É\n",
            "-------------------------\n",
            "Las hormigas pueden picar o morder a los residentes y mascotas del hogar, y al picar pueden causar hinchazón, picazón o reacciones alérgicas en algunos casos.\n",
            "Las hormigas actúan como vectores de agentes patógenos. Dado su pequeño tamaño y su gran capacidad de desplazamiento, pueden propagar patógenos a los alimentos y a lugares sensibles como hospitales.\n",
            "Las hormigas pueden dañar plantas en jardines y huertas, al remover el suelo durante la confección de sus nidos, y al consumir frutos cultivados.\n",
            "Las hormigas pueden dañar aparatos electrónicos y materiales estructurales, tales como maderas en vigas o ventanas, revestimientos y cimientos.\n",
            "Las hormigas pueden picar o muertir a los residentes y mascota del hogar, y al picar pueden causar hinchazón, picazón o reacciones alérgicas en algunos casos.\n",
            "Las hormigas pueden picar o muertir a los residentes y mascota del hogar, y cuando picar pueden causar hinchazón, picazón o reacciones alérgicas en algunos casos.\n",
            "Las hormigas pueden picar o muertir a los residentes y mascota del hogar, y al picar pueden causar hinchazón, picazón o reacciones alérgicos en algunos casos.\n",
            "Las hormigas actúan como vectores de agentes patógenos : Dado su pequeño tamaño y su gran capacidad de desplazamiento, pueden propagar patógenos a los alimentos y a lugares sensibles como hospital.\n",
            "Las hormigas actúan como vectores de agentes patógenos : Dado su pequeño tamaño y su gran capacidad de desplazamiento, pueden propagar patógenos a los alimentos y lugares sensibles como hospital.\n",
            "Las hormigas actúan como vectores de agentes patógenos : Dado su pequeño tamaño y su enorme capacidad de desplazamiento, pueden propagar patógenos a los alimentos y a lugares sensibles como hospital.\n",
            "Las hormigas pueden dañar plantas en jardín y huertas, al remover el suelo durante la producción de sus nidos y al consumir frutas cultivadas.\n",
            "Las hormigas pueden dañar plantas en jardín y huertas, al remover el suelo durante la presentación de sus nidos y al consumir frutas cultivadas.\n",
            "Las hormigas pueden dañar plantas en jardín y huertas, al remover el suelo durante la producción de sus nidos y al consumir fruta cultivados.\n",
            "Las hormigas pueden dañartrones electrónicos y materiales estructurales, como maderas en vigas o ventanas, revestimientos y motores. É É sk X / swnship\n",
            "Las hormigas pueden dañar Electronicas y materiales estructurales, como maderas en vigas o ventanas, revestimientos y motores. É É sk X / swnship\n",
            "Las hormigas pueden dañar Electronicas y materiales estructurales, como maderas en vigas o ventanas, revestimientos y motores. É / sk X / swnship\n",
            "-------------------------\n",
            "El control definitivo de las colonias es aquel que busque eliminar a su reina. Pero en general es difícil dado que solo durante la fundación de la colonia la reina puede hallarse fuera del nido.\n",
            "Como medida preventiva se recomienda limpiar diariamente y quitar las fuentes de comida pegajosa, residuos dulces y grasosos y cerrar bien los artículos con fragancias.\n",
            "Como medida preventiva se recomienda identificar y sellar los sitios de ingreso. Las entradas de las hormigas obreras pueden ser bloqueados mediante el uso de silicona, masilla, pegamento o yeso. Otra opción es colocar una barrera de vaselina o tiza ya que las hormigas no pueden caminar sobre estos productos.\n",
            "Como repelente se pueden usar condimentos como canela, menta, clavo de olor, ajo y pimienta negra, los cuales pueden ser diluidos en agua y rociados en muebles.\n",
            "Como repelentes se puede colocar hojas de laurel alrededor de la despensa de alimentos. Las hormigas también son repelidas por el vinagre, se recomienda mezclar partes iguales de vinagre y agua y luego rociarlo en áreas de almacenamiento y preparación de alimentos.\n",
            "Como repelente se recomienda colocar macetas con menta y clavo de olor en las ventanas o el jardín.\n",
            "Como medida preventiva se recomienda impedir el ingreso a fuentes de alimento de mascotas. Y si algún elemento está siendo invadido por hormigas, puede ser colocado sobre un plato con agua.\n",
            "Para el control de hormigas urbanas se recomienda rociar a cada individuo o a la boca del nido, con una solución de agua con vinagre en partes iguales.\n",
            "Un método de control es el uso de un cebo tóxico. Por ejemplo, mezclar agua con azúcar y ácido bórico o borato de sodio.\n",
            "El control definitivo de las colonias es aquellos que buscan eliminar a su reina, pero en general es difícil decir que solo durante la fundación de la colonia, ONU puede Hallse fuera del nido.\n",
            "El control definitivo de las colonias es aquellos que buscan eliminar a su reina, pero en general es difícil decir que solo durante la fundación de la colonia esa época puede Hallse fuera del nido.\n",
            "El control definitivo de las colonias es aquellos que buscan eliminar a su reina, pero en general es difícil, siempre que solo durante la fundación de la colonia, comase fuera del nido.\n",
            "Como medida preventiva, se recomienda limpiar diariamente y quitar las fuentes de comida pegajosa, residuos dulces y grasosos y cerrar bien los artículos con fragmentación.\n",
            "Como medida preventiva, se recomienda limpiar diariamente y quitar las fuentes de comida pegajosa, residuos dulce y grasosos y cerrar bien los artículos con fragmentación.\n",
            "Como medida preventiva, se recomienda limpiar diariamente y quitar las fuentes de comida pegajosa, residuos dulces y grasosos y cerrar bien los artículos con frag Nota.\n",
            "Como medida preventiva, se recomienda identificar y sellar los sitios de ingresos, las entradas de las hormigas radios pueden ser bloqueados mediante el uso de silicona, masilla, pegamento o yeso.\n",
            "Como medida cultural, se recomienda identificar y sellar los sitios de ingresos, las entradas de las hormigas radios pueden ser bloqueados mediante el uso de silicona, masilla, pegamento o yeso.\n",
            "Como medida preventiva, se recomienda identificar y sellar los sitios de ingresos, las entradas de las hormigas radios pueden ser bloqueados mediante el uso de silicona, masilla, pegamento o yeso. Otra opción es colocar una pelota de vaselina o agaso.\n",
            "Como repelente se pueden usar fuentes como canela, menta, clavo de molela, tolerancia y pimienta negra, los cuales pueden ser diluidos en agua y rociados en muebles.\n",
            "Como repelente se pueden usar fuentes como canela, menta, Clavo de molela, tolerancia y pimienta negra, los cuales pueden ser diluidos en agua y rociados en muebles.\n",
            "Como repelente se pueden usar mezclamentos como canela, menta, clavo de molela, tolerancia y pimienta negra, los cuales pueden ser diluidos en agua y rociados en muebles.\n",
            "Como repelentes, se puede colocar en las despensas de laurel de alimentos, las hormigas también son repelidas por el vinagre, se recomienda mezclar con partes de la arcilla y luego rociarlo en áreas de almacenamiento y preparación de alimentos.\n",
            "Como repelentes, se puede colocar en las despensas de laurel de alimentos, las hormigas también son repelidas por el vinagre, se recomienda mezclar con partes de vino y luego rociarlo en áreas de almacenamiento y preparación de alimentos.\n",
            "Como repelentes, se puede colocar en las despensas de laurel de alimentos, las hormigas también son repelidas por el vinagre, se recomienda mezclar con partes de la tribu y luego rociarlo en áreas de almacenamiento y preparación de alimentos.\n",
            "Como repelente, se recomienda colocar macetas con menta y un clavo de olor en las ventanas o el jardín.\n",
            "Como repelente, se recomienda colocar macetas con menta y un clavo de incendio en las ventanas o el jardín.\n",
            "Como repelente, se recomienda colocar macetas con menta y un clavo de tiro en las ventanas o el jardín.\n",
            "Como medida preventiva, se recomienda permitir el ingresar al interior de alimentos de mascota de mascota. Y cuando algún elemento está siendo invadido por plagas, puede ser colocado en un tazón con agua.\n",
            "Como medida preventiva, se recomienda evitar el ingresar al interior de alimentos de mascota de mascota, y cuando algún elemento está siendo invadido por plagas, puede ser colocado en un tazón con agua.\n",
            "Como medida preventiva, se recomienda permitir el ingresar al interior de alimentos de mascota de mascota. Y cuando algún elemento está siendo invadido por plagas, puede ser colocado en un plato con agua.\n",
            "Para el control de insectos urbanas se recomienda rociar a cada individuo o a la boca del nido, con una solución de agua con vinagre en partes iguales : pidió\n",
            "Para el control de insectos urbanas se recomienda rociar a cada individuo o a la boca del nido, con una solución de agua con vinagre en partes iguales al cuadrado.\n",
            "Para el control de insectos urbanas se recomienda rociar a cada individuo o a la boca del nido, con una solución de agua con vinagre en partes iguales : camino\n",
            "Un método de control es el uso de un cebo tóxico : por ejemplo, mezclar con azúcar y ácidodanorico o borato de sodio, conductor de sodio.\n",
            "Un método de control es el uso de un cebo tóxico. Por ejemplo, mezclar con azúcar y ácidodanorico o borato de sodio. Sigue siendo sodio.\n",
            "Un método de control es el uso de un cebo tóxico : por ejemplo, mezclar con azúcar y ácidodanorico o borato de sodio. Una vez más.\n",
            "-------------------------\n"
          ]
        }
      ],
      "source": [
        "for topic in parafrasis:\n",
        "  for j in parafrasis[topic]:\n",
        "    print(j)\n",
        "  print(\"-------------------------\")"
      ]
    },
    {
      "cell_type": "markdown",
      "metadata": {
        "id": "TvozoxEkVuUX"
      },
      "source": [
        "Generar textos usando los párrafos creados. Un párrafo por tema."
      ]
    },
    {
      "cell_type": "code",
      "execution_count": 8,
      "metadata": {
        "id": "2mlHFpm2VtS-"
      },
      "outputs": [
        {
          "name": "stdout",
          "output_type": "stream",
          "text": [
            "Las hormigas son insectos que pertenecen a un grupo llamado insectos sociales, los cuales se caracterizan por vivir en comunidades organizadas con división de tareas. El tamaño de las colonias de hormigas pueden variar desde una docena hasta varios miles de ejemplares.\n",
            "La longitud normal de una hormiga es de 1 a 5 mm, aunque se han llegado a descubrir hormigas de hasta 30 mm (no en la región patagónica).\n",
            "Las hormigas habitan en casi todos los ecosistemas terrestres con excepción de la Antártida. Las especies que entran a nuestras casas en busca de protección o alimento son conocidas como 'Hormigas Urbanas'.\n",
            "Las hormigas actúan como vectores de agentes patógenos. Dado su pequeño tamaño y su gran capacidad de desplazamiento, pueden propagar patógenos a los alimentos y a lugares sensibles como hospitales.\n",
            "Como repelentes se puede colocar hojas de laurel alrededor de la despensa de alimentos. Las hormigas también son repelidas por el vinagre, se recomienda mezclar partes iguales de vinagre y agua y luego rociarlo en áreas de almacenamiento y preparación de alimentos.\n",
            "\n",
            "\n",
            "Las hormigas son insectos que pertenecen a un grupo llamado insectos sociales, los cuales se caracterizan por vivir en comunidades organizadas con división de tareas. El tamaño de las colonias de hormigas pueden variar desde una docena hasta varios miles de ejemplares.\n",
            "Tienen cabeza grande, antenas articuladas, poderosas mandíbulas y tres regiones corporales (cabeza, tórax y abdomen). En el extremo último del abdomen de puede encontrar el aguijón.\n",
            "Las hormigas habitan en casi todos los ecosistemas terrestres con excepción de la Antártida. Las especies que entran a nuestras casas en busca de protección o alimento son conocidas como 'Hormigas Urbanas'.\n",
            "Las hormigas pueden picar o morder a los residentes y mascotas del hogar, y al picar pueden causar hinchazón, picazón o reacciones alérgicas en algunos casos.\n",
            "Como medida preventiva se recomienda limpiar diariamente y quitar las fuentes de comida pegajosa, residuos dulces y grasosos y cerrar bien los artículos con fragancias.\n",
            "\n",
            "\n",
            "Las hormigas son insectos que depende su alimentación pueden ser nectívoras (se alimentan de soluciones azucaradas), granívoras (se alimentan de granos y semillas) y cortadoras (recolectan trozos de hojas que trasladan al nido para cultivar un hongo que sirve de alimento de adultos y larvas).\n",
            "La longitud normal de una hormiga es de 1 a 5 mm, aunque se han llegado a descubrir hormigas de hasta 30 mm (no en la región patagónica).\n",
            "Las hormigas viven en nidos o colonias de tamaños variables, desde una docena hasta varios miles de individuos.\n",
            "Las hormigas pueden dañar plantas en jardines y huertas, al remover el suelo durante la confección de sus nidos, y al consumir frutos cultivados.\n",
            "Como repelente se recomienda colocar macetas con menta y clavo de olor en las ventanas o el jardín.\n",
            "\n",
            "\n",
            "Las hormigas son insectos que depende su alimentación pueden ser nectívoras (se alimentan de soluciones azucaradas), granívoras (se alimentan de granos y semillas) y cortadoras (recolectan trozos de hojas que trasladan al nido para cultivar un hongo que sirve de alimento de adultos y larvas).\n",
            "La longitud normal de una hormiga es de 1 a 5 mm, aunque se han llegado a descubrir hormigas de hasta 30 mm (no en la región patagónica).\n",
            "Las hormigas viven en nidos o colonias de tamaños variables, desde una docena hasta varios miles de individuos.\n",
            "Las hormigas pueden picar o morder a los residentes y mascotas del hogar, y al picar pueden causar hinchazón, picazón o reacciones alérgicas en algunos casos.\n",
            "Un método de control es el uso de un cebo tóxico. Por ejemplo, mezclar agua con azúcar y ácido bórico o borato de sodio.\n",
            "\n",
            "\n"
          ]
        }
      ],
      "source": [
        "from itertools import product\n",
        "# combinar paráfrasis\n",
        "#final_text = [t1 +\"\\n\" + t2 +\"\\n\" + t3 +\"\\n\"+ t4 +\"\\n\" + t5 for t1, t2, t3, t4, t5 in product(parafrasis[\"que\"], parafrasis[\"como\"], parafrasis[\"habitat\"], parafrasis[\"daño\"], parafrasis[\"prevencion\"])]\n",
        "\n",
        "# combinar párrafos madre\n",
        "final_text = [\n",
        "    t1 + \"\\n\" + t2 + \"\\n\" + t3 + \"\\n\"+ t4 + \"\\n\" + t5\n",
        "    for t1, t2, t3, t4, t5 in product(bug[\"que\"], bug[\"como\"], bug[\"habitat\"],\n",
        "                                      bug[\"daño\"], bug[\"prevencion\"])\n",
        "]\n",
        "\n",
        "import random\n",
        "for i in range(4):\n",
        "  num = random.randint(0, len(final_text))\n",
        "  print(final_text[num] + \"\\n\\n\")"
      ]
    }
  ],
  "metadata": {
    "accelerator": "GPU",
    "colab": {
      "authorship_tag": "ABX9TyNmQgSZe3Zk2HytevxGDlXf",
      "collapsed_sections": [],
      "include_colab_link": true,
      "provenance": []
    },
    "kernelspec": {
      "display_name": "Python 3.8.10 64-bit",
      "language": "python",
      "name": "python3"
    },
    "language_info": {
      "codemirror_mode": {
        "name": "ipython",
        "version": 3
      },
      "file_extension": ".py",
      "mimetype": "text/x-python",
      "name": "python",
      "nbconvert_exporter": "python",
      "pygments_lexer": "ipython3",
      "version": "3.8.10"
    },
    "vscode": {
      "interpreter": {
        "hash": "916dbcbb3f70747c44a77c7bcd40155683ae19c65e1c03b4aa3499c5328201f1"
      }
    }
  },
  "nbformat": 4,
  "nbformat_minor": 0
}
