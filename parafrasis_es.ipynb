{
  "nbformat": 4,
  "nbformat_minor": 0,
  "metadata": {
    "colab": {
      "provenance": [],
      "collapsed_sections": [],
      "authorship_tag": "ABX9TyNmQgSZe3Zk2HytevxGDlXf",
      "include_colab_link": true
    },
    "kernelspec": {
      "name": "python3",
      "display_name": "Python 3"
    },
    "language_info": {
      "name": "python"
    },
    "accelerator": "GPU"
  },
  "cells": [
    {
      "cell_type": "markdown",
      "metadata": {
        "id": "view-in-github",
        "colab_type": "text"
      },
      "source": [
        "<a href=\"https://colab.research.google.com/github/LuciaMartinezGavier/compromiso-social-estudiantil/blob/main/parafrasis_es.ipynb\" target=\"_parent\"><img src=\"https://colab.research.google.com/assets/colab-badge.svg\" alt=\"Open In Colab\"/></a>"
      ]
    },
    {
      "cell_type": "markdown",
      "source": [
        "# Generación de paráfrasis en español\n"
      ],
      "metadata": {
        "id": "7_t4eIxnLKu3"
      }
    },
    {
      "cell_type": "markdown",
      "source": [
        "Elegir insecto\n",
        "Opciones: babosa, oruga, hormigas, babositas"
      ],
      "metadata": {
        "id": "aBd78O5Blu2s"
      }
    },
    {
      "cell_type": "code",
      "source": [
        "bug = 'oruga'"
      ],
      "metadata": {
        "id": "dHJufQr-lkGi"
      },
      "execution_count": null,
      "outputs": []
    },
    {
      "cell_type": "markdown",
      "source": [
        "Obtener los textos que se desean parafrasear"
      ],
      "metadata": {
        "id": "AUJkEeaULdfX"
      }
    },
    {
      "cell_type": "code",
      "source": [
        "import requests\n",
        "\n",
        "# url tiene el link a la descarga de un json con todos los párrafos\n",
        "urls = {\n",
        "  'babosa':   'https://drive.google.com/uc?export=download&id=1_0DHmdMzrr_0RCbc1-zxMsUNHZ_yTG4X',\n",
        "  'oruga':    'https://drive.google.com/uc?export=download&id=1UBRHkv7s39ju6fmthJ7lSfQ41Fy6MF8C',\n",
        "  'hormiga':  'https://drive.google.com/uc?export=download&id=1U63xv_DPTb4FAI9XKiJ9ly6au7FQhNKm',\n",
        "  'babosita': 'https://drive.google.com/uc?export=download&id=1RzIe2ejobaGxN3m-nrA6p4hyLqdQxjI1'\n",
        "}\n",
        "\n",
        "try:\n",
        "  bug = requests.get(urls[bug]).json()\n",
        "except:\n",
        "  print(\"An error ocurred\")\n"
      ],
      "metadata": {
        "id": "UfgolecZwXTy"
      },
      "execution_count": null,
      "outputs": []
    },
    {
      "cell_type": "markdown",
      "source": [
        "Utilizar modelo para hacer paráfrasis"
      ],
      "metadata": {
        "id": "u_xTrGAnVkjv"
      }
    },
    {
      "cell_type": "code",
      "execution_count": null,
      "metadata": {
        "id": "IztFgwmjucYd"
      },
      "outputs": [],
      "source": [
        "!pip install transformers==4.10.2\n",
        "!pip install sentencepiece==0.1.96"
      ]
    },
    {
      "cell_type": "code",
      "source": [
        "# importar modelo de paráfrasis\n",
        "from transformers import AutoTokenizer, AutoModelForSeq2SeqLM\n",
        "\n",
        "tokenizer = AutoTokenizer.from_pretrained(\"mrm8488/bert2bert_shared-spanish-finetuned-paus-x-paraphrasing\")\n",
        "model = AutoModelForSeq2SeqLM.from_pretrained(\"mrm8488/bert2bert_shared-spanish-finetuned-paus-x-paraphrasing\")\n",
        "import torch\n",
        "\n",
        "\n",
        "device = torch.device(\"cuda\" if torch.cuda.is_available() else \"cpu\")\n",
        "model = model.to(device)\n",
        "print(\"device \", device)"
      ],
      "metadata": {
        "id": "O-oWCDW5H1fN"
      },
      "execution_count": null,
      "outputs": []
    },
    {
      "cell_type": "code",
      "source": [
        "from copy import deepcopy\n",
        "parafrasis = deepcopy(bug)\n",
        "\n",
        "for topic in bug:\n",
        "  for paragraph in bug[topic]:\n",
        "    context = paragraph\n",
        "    device = torch.device(\"cuda\" if torch.cuda.is_available() else \"cpu\")\n",
        "    model = model.to(device)\n",
        "    text = context + \" </s>\"\n",
        "\n",
        "    encoding = tokenizer.encode_plus(\n",
        "        text,\n",
        "        max_length = 500,\n",
        "        padding=True,\n",
        "        return_tensors = \"pt\"\n",
        "    )\n",
        "\n",
        "    input_ids = encoding[\"input_ids\"].to(device)\n",
        "    attention_mask = encoding[\"attention_mask\"].to(device)\n",
        "\n",
        "    model.eval()\n",
        "    beam_outputs = model.generate(\n",
        "        input_ids=input_ids,\n",
        "        attention_mask=attention_mask,\n",
        "        max_length=500,\n",
        "        early_stopping=True,\n",
        "        num_beams=15,\n",
        "        num_return_sequences=3,\n",
        "    )\n",
        "\n",
        "    for beam_output in beam_outputs:\n",
        "        sent = tokenizer.decode(beam_output, skip_special_tokens = True,\n",
        "                                clean_up_tokenization_spaces = True)\n",
        "        parafrasis[topic].append(sent)\n"
      ],
      "metadata": {
        "id": "9t1u0c7uwpPT"
      },
      "execution_count": null,
      "outputs": []
    },
    {
      "cell_type": "code",
      "source": [
        "for topic in parafrasis:\n",
        "  for j in parafrasis[topic]:\n",
        "    print(j)\n",
        "  print(\"-------------------------\")"
      ],
      "metadata": {
        "id": "7DBJD8lK-Zqb"
      },
      "execution_count": null,
      "outputs": []
    },
    {
      "cell_type": "markdown",
      "source": [
        "Generar textos usando los párrafos creados. Un párrafo por tema."
      ],
      "metadata": {
        "id": "TvozoxEkVuUX"
      }
    },
    {
      "cell_type": "code",
      "source": [
        "from itertools import product\n",
        "\n",
        "#final_text = [t1 +\"\\n\" + t2 +\"\\n\" + t3 +\"\\n\"+ t4 +\"\\n\" + t5 for t1, t2, t3, t4, t5 in product(parafrasis[\"que\"], parafrasis[\"como\"], parafrasis[\"habitat\"], parafrasis[\"daño\"], parafrasis[\"prevencion\"])]\n",
        "final_text = [\n",
        "    t1 + \"\\n\" + t2 + \"\\n\" + t3 + \"\\n\"+ t4 + \"\\n\" + t5\n",
        "    for t1, t2, t3, t4, t5 in product(bug[\"que\"], bug[\"como\"], bug[\"habitat\"],\n",
        "                                      bug[\"daño\"], bug[\"prevencion\"])\n",
        "]\n",
        "\n",
        "import random\n",
        "for i in range(4):\n",
        "  num = random.randint(0, len(final_text))\n",
        "  print(final_text[num] + \"\\n\\n\")"
      ],
      "metadata": {
        "id": "2mlHFpm2VtS-"
      },
      "execution_count": null,
      "outputs": []
    }
  ]
}